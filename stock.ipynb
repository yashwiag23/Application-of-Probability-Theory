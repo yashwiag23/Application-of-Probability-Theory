{
 "cells": [
  {
   "cell_type": "code",
   "execution_count": 14,
   "id": "326dfcec",
   "metadata": {},
   "outputs": [
    {
     "name": "stderr",
     "output_type": "stream",
     "text": [
      "c:\\Users\\Yashwi\\AppData\\Local\\Programs\\Python\\Python39\\lib\\site-packages\\xgboost\\core.py:158: UserWarning: [04:15:52] WARNING: C:\\buildkite-agent\\builds\\buildkite-windows-cpu-autoscaling-group-i-08cbc0333d8d4aae1-1\\xgboost\\xgboost-ci-windows\\src\\learner.cc:740: \n",
      "Parameters: { \"use_label_encoder\" } are not used.\n",
      "\n",
      "  warnings.warn(smsg, UserWarning)\n"
     ]
    },
    {
     "name": "stdout",
     "output_type": "stream",
     "text": [
      "Accuracy: 0.7142649446315636\n",
      "Precision: 0.7176985799957514\n",
      "Recall: 0.7081633640218635\n",
      "F1 Score: 0.7128990894187537\n"
     ]
    }
   ],
   "source": [
    "import pandas as pd\n",
    "import numpy as np\n",
    "import matplotlib.pyplot as plt\n",
    "from sklearn.linear_model import LogisticRegression\n",
    "from sklearn.metrics import accuracy_score, precision_score, recall_score, f1_score\n",
    "import xgboost as xgb\n",
    "\n",
    "df = pd.read_csv(r\"C:\\Users\\Yashwi\\OneDrive\\Desktop\\IITK\\Summer Project 2024\\Application of Probability Theory\\Stock Market\\archive\\all_stocks_5yr.csv\")\n",
    "df = df.sort_values(by='date')\n",
    "prices = df['close'].dropna()\n",
    "\n",
    "# features\n",
    "returns = 100 * np.diff(np.log(prices.values))\n",
    "returns_df = pd.DataFrame()\n",
    "returns_df['return'] = returns\n",
    "\n",
    "returns_df['lag_1'] = returns_df['return'].shift(1)\n",
    "returns_df['lag_2'] = returns_df['return'].shift(2)\n",
    "returns_df['ma_3'] = returns_df['return'].rolling(window=3).mean()\n",
    "returns_df['ma_5'] = returns_df['return'].rolling(window=5).mean()\n",
    "returns_df['std_3'] = returns_df['return'].rolling(window=3).std()\n",
    "returns_df['std_5'] = returns_df['return'].rolling(window=5).std()\n",
    "returns_df['momentum'] = returns_df['return'] - returns_df['lag_1']\n",
    "\n",
    "# 1 if next return is positive, else 0\n",
    "returns_df['target'] = (returns_df['return'].shift(-1) > 0).astype(int)\n",
    "returns_df.dropna(inplace=True)\n",
    "\n",
    "# train-test split\n",
    "X = returns_df.drop(columns=['target'])\n",
    "y = returns_df['target']\n",
    "split = int(0.8 * len(X))\n",
    "X_train, X_test = X[:split], X[split:]\n",
    "y_train, y_test = y[:split], y[split:]\n",
    "\n",
    "# train\n",
    "# model = LogisticRegression(class_weight='balanced', max_iter=1000)\n",
    "model = xgb.XGBClassifier(use_label_encoder=False, eval_metric='logloss')\n",
    "model.fit(X_train, y_train)\n",
    "y_pred = model.predict(X_test)\n",
    "\n",
    "# evaluate\n",
    "print(\"Accuracy:\", accuracy_score(y_test, y_pred))\n",
    "print(\"Precision:\", precision_score(y_test, y_pred, zero_division=0))\n",
    "print(\"Recall:\", recall_score(y_test, y_pred, zero_division=0))\n",
    "print(\"F1 Score:\", f1_score(y_test, y_pred, zero_division=0))\n",
    "\n"
   ]
  },
  {
   "cell_type": "code",
   "execution_count": 15,
   "id": "76a6cf1d",
   "metadata": {},
   "outputs": [
    {
     "name": "stderr",
     "output_type": "stream",
     "text": [
      "c:\\Users\\Yashwi\\AppData\\Local\\Programs\\Python\\Python39\\lib\\site-packages\\xgboost\\core.py:158: UserWarning: [04:16:35] WARNING: C:\\buildkite-agent\\builds\\buildkite-windows-cpu-autoscaling-group-i-08cbc0333d8d4aae1-1\\xgboost\\xgboost-ci-windows\\src\\learner.cc:740: \n",
      "Parameters: { \"use_label_encoder\" } are not used.\n",
      "\n",
      "  warnings.warn(smsg, UserWarning)\n",
      "c:\\Users\\Yashwi\\AppData\\Local\\Programs\\Python\\Python39\\lib\\site-packages\\xgboost\\core.py:158: UserWarning: [04:16:36] WARNING: C:\\buildkite-agent\\builds\\buildkite-windows-cpu-autoscaling-group-i-08cbc0333d8d4aae1-1\\xgboost\\xgboost-ci-windows\\src\\learner.cc:740: \n",
      "Parameters: { \"use_label_encoder\" } are not used.\n",
      "\n",
      "  warnings.warn(smsg, UserWarning)\n",
      "c:\\Users\\Yashwi\\AppData\\Local\\Programs\\Python\\Python39\\lib\\site-packages\\xgboost\\core.py:158: UserWarning: [04:16:37] WARNING: C:\\buildkite-agent\\builds\\buildkite-windows-cpu-autoscaling-group-i-08cbc0333d8d4aae1-1\\xgboost\\xgboost-ci-windows\\src\\learner.cc:740: \n",
      "Parameters: { \"use_label_encoder\" } are not used.\n",
      "\n",
      "  warnings.warn(smsg, UserWarning)\n",
      "c:\\Users\\Yashwi\\AppData\\Local\\Programs\\Python\\Python39\\lib\\site-packages\\xgboost\\core.py:158: UserWarning: [04:16:38] WARNING: C:\\buildkite-agent\\builds\\buildkite-windows-cpu-autoscaling-group-i-08cbc0333d8d4aae1-1\\xgboost\\xgboost-ci-windows\\src\\learner.cc:740: \n",
      "Parameters: { \"use_label_encoder\" } are not used.\n",
      "\n",
      "  warnings.warn(smsg, UserWarning)\n",
      "c:\\Users\\Yashwi\\AppData\\Local\\Programs\\Python\\Python39\\lib\\site-packages\\xgboost\\core.py:158: UserWarning: [04:16:39] WARNING: C:\\buildkite-agent\\builds\\buildkite-windows-cpu-autoscaling-group-i-08cbc0333d8d4aae1-1\\xgboost\\xgboost-ci-windows\\src\\learner.cc:740: \n",
      "Parameters: { \"use_label_encoder\" } are not used.\n",
      "\n",
      "  warnings.warn(smsg, UserWarning)\n"
     ]
    },
    {
     "name": "stdout",
     "output_type": "stream",
     "text": [
      "Average Accuracy: 0.614\n",
      "Average Precision: 0.659\n",
      "Average Recall: 0.475\n",
      "Average F1 Score: 0.550\n"
     ]
    }
   ],
   "source": [
    "import pandas as pd\n",
    "import numpy as np\n",
    "from sklearn.linear_model import LogisticRegression\n",
    "from sklearn.metrics import accuracy_score, precision_score, recall_score, f1_score\n",
    "from sklearn.model_selection import TimeSeriesSplit\n",
    "import xgboost as xgb\n",
    "\n",
    "df = pd.read_csv(r\"C:\\Users\\Yashwi\\OneDrive\\Desktop\\IITK\\Summer Project 2024\\Application of Probability Theory\\Stock Market\\archive\\all_stocks_5yr.csv\")\n",
    "df = df.sort_values('date')\n",
    "\n",
    "# features\n",
    "df['return'] = df['close'].pct_change()  # daily returns\n",
    "df['target'] = (df['return'].shift(-1) > 0).astype(int)  # 1 if next day up, else 0\n",
    "\n",
    "df['lag_1'] = df['return'].shift(1)\n",
    "df['lag_2'] = df['return'].shift(2)\n",
    "df['lag_3'] = df['return'].shift(3)\n",
    "\n",
    "df['ma_5'] = df['close'].rolling(window=5).mean()\n",
    "df['ma_10'] = df['close'].rolling(window=10).mean()\n",
    "df['volatility_5'] = df['return'].rolling(window=5).std()\n",
    "\n",
    "df = df.dropna()\n",
    "\n",
    "X = df[['lag_1', 'lag_2', 'lag_3', 'ma_5', 'ma_10', 'volatility_5']]\n",
    "y = df['target']\n",
    "\n",
    "# time-series-aware cross-validation\n",
    "tscv = TimeSeriesSplit(n_splits=5)\n",
    "\n",
    "accuracies, precisions, recalls, f1s = [], [], [], []\n",
    "\n",
    "for train_index, test_index in tscv.split(X):\n",
    "    X_train, X_test = X.iloc[train_index], X.iloc[test_index]\n",
    "    y_train, y_test = y.iloc[train_index], y.iloc[test_index]\n",
    "\n",
    "    # model = LogisticRegression(class_weight='balanced', max_iter=1000)\n",
    "    model = xgb.XGBClassifier(use_label_encoder=False, eval_metric='logloss')\n",
    "    model.fit(X_train, y_train)\n",
    "    y_pred = model.predict(X_test)\n",
    "\n",
    "    accuracies.append(accuracy_score(y_test, y_pred))\n",
    "    precisions.append(precision_score(y_test, y_pred))\n",
    "    recalls.append(recall_score(y_test, y_pred))\n",
    "    f1s.append(f1_score(y_test, y_pred))\n",
    "\n",
    "print(f\"Average Accuracy: {np.mean(accuracies):.3f}\")\n",
    "print(f\"Average Precision: {np.mean(precisions):.3f}\")\n",
    "print(f\"Average Recall: {np.mean(recalls):.3f}\")\n",
    "print(f\"Average F1 Score: {np.mean(f1s):.3f}\")"
   ]
  }
 ],
 "metadata": {
  "kernelspec": {
   "display_name": "Python 3",
   "language": "python",
   "name": "python3"
  },
  "language_info": {
   "codemirror_mode": {
    "name": "ipython",
    "version": 3
   },
   "file_extension": ".py",
   "mimetype": "text/x-python",
   "name": "python",
   "nbconvert_exporter": "python",
   "pygments_lexer": "ipython3",
   "version": "3.9.9"
  }
 },
 "nbformat": 4,
 "nbformat_minor": 5
}
